{
 "cells": [
  {
   "cell_type": "markdown",
   "metadata": {},
   "source": [
    "# Data Story Notebook\n",
    "This is the Jupyter notebook for the 'Data Story' portion of my first Springboard capstone project. The goal of this project is to create a model that predicts what decade a song is form based on its lyrical content. This will be where I do my exploratory data analysis of the lyrical content of the lyrics of the songs, and of the data in general."
   ]
  },
  {
   "cell_type": "code",
   "execution_count": 1,
   "metadata": {},
   "outputs": [],
   "source": [
    "# Importing packages\n",
    "import pandas as pd\n",
    "import numpy as np\n",
    "import matplotlib.pyplot as plt\n",
    "from nltk.tokenize import word_tokenize\n",
    "from nltk.corpus import stopwords\n",
    "from collections import Counter\n",
    "import seaborn as sns\n",
    "import nltk\n",
    "import os\n",
    "sns.set()"
   ]
  },
  {
   "cell_type": "markdown",
   "metadata": {},
   "source": [
    "To start with, we will import the data and visualize large parts of the data. Insteresting things to look at will be numbers of songs per year, most common artists, and most common words from songs overall and by decades. We will start with looking at the biggest possible pictures in the data."
   ]
  },
  {
   "cell_type": "code",
   "execution_count": 2,
   "metadata": {},
   "outputs": [
    {
     "data": {
      "text/html": [
       "<div>\n",
       "<style scoped>\n",
       "    .dataframe tbody tr th:only-of-type {\n",
       "        vertical-align: middle;\n",
       "    }\n",
       "\n",
       "    .dataframe tbody tr th {\n",
       "        vertical-align: top;\n",
       "    }\n",
       "\n",
       "    .dataframe thead th {\n",
       "        text-align: right;\n",
       "    }\n",
       "</style>\n",
       "<table border=\"1\" class=\"dataframe\">\n",
       "  <thead>\n",
       "    <tr style=\"text-align: right;\">\n",
       "      <th></th>\n",
       "      <th>Rank</th>\n",
       "      <th>Song</th>\n",
       "      <th>Artist</th>\n",
       "      <th>Year</th>\n",
       "      <th>Lyrics</th>\n",
       "      <th>Decade</th>\n",
       "    </tr>\n",
       "  </thead>\n",
       "  <tbody>\n",
       "    <tr>\n",
       "      <th>0</th>\n",
       "      <td>1</td>\n",
       "      <td>wooly bully</td>\n",
       "      <td>sam the sham and the pharaohs</td>\n",
       "      <td>1965</td>\n",
       "      <td>sam the sham miscellaneous wooly bully wooly b...</td>\n",
       "      <td>1960</td>\n",
       "    </tr>\n",
       "    <tr>\n",
       "      <th>1</th>\n",
       "      <td>2</td>\n",
       "      <td>i cant help myself sugar pie honey bunch</td>\n",
       "      <td>four tops</td>\n",
       "      <td>1965</td>\n",
       "      <td>sugar pie honey bunch you know that i love yo...</td>\n",
       "      <td>1960</td>\n",
       "    </tr>\n",
       "    <tr>\n",
       "      <th>2</th>\n",
       "      <td>4</td>\n",
       "      <td>you were on my mind</td>\n",
       "      <td>we five</td>\n",
       "      <td>1965</td>\n",
       "      <td>when i woke up this morning you were on my mi...</td>\n",
       "      <td>1960</td>\n",
       "    </tr>\n",
       "    <tr>\n",
       "      <th>3</th>\n",
       "      <td>5</td>\n",
       "      <td>youve lost that lovin feelin</td>\n",
       "      <td>the righteous brothers</td>\n",
       "      <td>1965</td>\n",
       "      <td>you never close your eyes anymore when i kiss...</td>\n",
       "      <td>1960</td>\n",
       "    </tr>\n",
       "    <tr>\n",
       "      <th>4</th>\n",
       "      <td>6</td>\n",
       "      <td>downtown</td>\n",
       "      <td>petula clark</td>\n",
       "      <td>1965</td>\n",
       "      <td>when youre alone and life is making you lonel...</td>\n",
       "      <td>1960</td>\n",
       "    </tr>\n",
       "  </tbody>\n",
       "</table>\n",
       "</div>"
      ],
      "text/plain": [
       "   Rank                                      Song  \\\n",
       "0     1                               wooly bully   \n",
       "1     2  i cant help myself sugar pie honey bunch   \n",
       "2     4                       you were on my mind   \n",
       "3     5              youve lost that lovin feelin   \n",
       "4     6                                  downtown   \n",
       "\n",
       "                          Artist  Year  \\\n",
       "0  sam the sham and the pharaohs  1965   \n",
       "1                      four tops  1965   \n",
       "2                        we five  1965   \n",
       "3         the righteous brothers  1965   \n",
       "4                   petula clark  1965   \n",
       "\n",
       "                                              Lyrics  Decade  \n",
       "0  sam the sham miscellaneous wooly bully wooly b...    1960  \n",
       "1   sugar pie honey bunch you know that i love yo...    1960  \n",
       "2   when i woke up this morning you were on my mi...    1960  \n",
       "3   you never close your eyes anymore when i kiss...    1960  \n",
       "4   when youre alone and life is making you lonel...    1960  "
      ]
     },
     "execution_count": 2,
     "metadata": {},
     "output_type": "execute_result"
    }
   ],
   "source": [
    "# importing the data\n",
    "songs = pd.read_csv(\"clean_songs.csv\")\n",
    "songs = songs.drop(columns='Unnamed: 0')\n",
    "songs.head()"
   ]
  },
  {
   "cell_type": "markdown",
   "metadata": {},
   "source": [
    "# Looking at the Big Picture\n",
    "Cleaning the data resulted in dropping a few songs from each year so the first few things we will look at is counting what is going on with the data overall. how many songs do we have for each year? for each rank?"
   ]
  },
  {
   "cell_type": "code",
   "execution_count": 3,
   "metadata": {},
   "outputs": [
    {
     "data": {
      "image/png": "[encoded data removed]",
      "text/plain": [
       "<Figure size 432x288 with 1 Axes>"
      ]
     },
     "metadata": {
      "needs_background": "light"
     },
     "output_type": "display_data"
    }
   ],
   "source": [
    "# visualizing songs per year\n",
    "plt.hist(songs['Decade'])\n",
    "plt.xlabel('Decade')\n",
    "plt.ylabel('Number of songs')\n",
    "plt.show()"
   ]
  },
  {
   "cell_type": "markdown",
   "metadata": {},
   "source": [
    "Looking at this graph, we see that we have not lost too many songs from each decade after cleaning the data. The most obvious discrepencies we can observe here are that the 1960's has a bit less than 500 songs, and the 2010's have a bit less than 600 songs. These are both expected from how the data was originally constructed, with the years 1965-2015."
   ]
  },
  {
   "cell_type": "code",
   "execution_count": 4,
   "metadata": {
    "scrolled": true
   },
   "outputs": [
    {
     "data": {
      "text/plain": [
       "Rank\n",
       "1     48\n",
       "2     46\n",
       "3     48\n",
       "4     51\n",
       "5     49\n",
       "6     50\n",
       "7     48\n",
       "8     49\n",
       "9     49\n",
       "10    49\n",
       "11    49\n",
       "12    50\n",
       "13    50\n",
       "14    49\n",
       "15    48\n",
       "16    46\n",
       "17    50\n",
       "18    49\n",
       "19    50\n",
       "20    48\n",
       "dtype: int64"
      ]
     },
     "execution_count": 4,
     "metadata": {},
     "output_type": "execute_result"
    }
   ],
   "source": [
    "songs.groupby('Rank').size().head(20)"
   ]
  },
  {
   "cell_type": "markdown",
   "metadata": {},
   "source": [
    "Looking at counts of the top twenty ranks, we see that the top twenty ranks have not been too adversely affected by the data cleaning procedure. I can observe that rank 4 has 51 songs for some reason, which is an interesting error in the data. Fortunately only a two of the first 20 ranks are missing more than two or three songs."
   ]
  },
  {
   "cell_type": "code",
   "execution_count": 15,
   "metadata": {},
   "outputs": [
    {
     "data": {
      "text/plain": [
       "Artist\n",
       "madonna            34\n",
       "elton john         25\n",
       "mariah carey       24\n",
       "janet jackson      22\n",
       "michael jackson    22\n",
       "stevie wonder      20\n",
       "rihanna            19\n",
       "whitney houston    19\n",
       "taylor swift       19\n",
       "the beatles        17\n",
       "dtype: int64"
      ]
     },
     "execution_count": 15,
     "metadata": {},
     "output_type": "execute_result"
    }
   ],
   "source": [
    "top_art = songs.groupby('Artist').size().sort_values(ascending=False).head(10)\n",
    "top_art"
   ]
  },
  {
   "cell_type": "markdown",
   "metadata": {},
   "source": [
    "Viewing the most common artists and when they were popular may be interesting, as the fact that some artitsts completely dominate charts and my have their own lyrical styles may affect the lyrical content of certain decades."
   ]
  },
  {
   "cell_type": "markdown",
   "metadata": {},
   "source": [
    "# Breaking it down\n",
    "Now we are going to start breaking down to data into its minutia in order to start making observations of lyrical content. We will be looking at lyrical content as a whole, then by decade."
   ]
  },
  {
   "cell_type": "code",
   "execution_count": 17,
   "metadata": {},
   "outputs": [],
   "source": [
    "#to start with, we will tokenize the lyrics and preprocess the words\n",
    "def preprocess(string):\n",
    "    \"\"\"Tokenizes, and lowercases a string, removing non-alpha words.\"\"\"\n",
    "    tok = word_tokenize(string)\n",
    "    tok = [t.lower() for t in tok]\n",
    "    tok = [t for t in tok if t.isalpha()]\n",
    "    return tok\n",
    "\n",
    "#Creating a tokens feature for the data\n",
    "songs['Tokens'] = songs['Lyrics'].apply(preprocess)\n",
    "\n",
    "#A function that generates worcount dictionaries\n",
    "def wordcounts(data):\n",
    "    \"\"\"Takes a list of lists of words and generates a word counter from those tokens.\"\"\"\n",
    "    counts = dict()\n",
    "    for song in data:\n",
    "        words = song\n",
    "        for word in words:\n",
    "            if word in counts:\n",
    "                counts[word] += 1\n",
    "            else:\n",
    "                counts[word] = 1\n",
    "    return counts"
   ]
  },
  {
   "cell_type": "code",
   "execution_count": 30,
   "metadata": {},
   "outputs": [],
   "source": [
    "#calculating wordcounts for all of the words in the data\n",
    "all_words = wordcounts(songs['Tokens'])"
   ]
  },
  {
   "cell_type": "code",
   "execution_count": 31,
   "metadata": {},
   "outputs": [],
   "source": [
    "#Calculating wordcounts for each of the decades respectively\n",
    "sixties= wordcounts(songs[songs.Decade==1960]['Tokens'])\n",
    "seventies = wordcounts(songs[songs.Decade==1970]['Tokens'])\n",
    "eighties = wordcounts(songs[songs.Decade==1980]['Tokens'])\n",
    "nineties = wordcounts(songs[songs.Decade==1990]['Tokens'])\n",
    "auts = wordcounts(songs[songs.Decade==2000]['Tokens'])\n",
    "teens = wordcounts(songs[songs.Decade==2010]['Tokens'])"
   ]
  },
  {
   "cell_type": "code",
   "execution_count": null,
   "metadata": {},
   "outputs": [],
   "source": []
  },
  {
   "cell_type": "code",
   "execution_count": 14,
   "metadata": {},
   "outputs": [],
   "source": []
  },
  {
   "cell_type": "code",
   "execution_count": null,
   "metadata": {},
   "outputs": [],
   "source": []
  },
  {
   "cell_type": "code",
   "execution_count": 33,
   "metadata": {},
   "outputs": [],
   "source": [
    "# Before taking apart data, split it into decades\n",
    "sixt = songs[songs.Decade == 1960]\n",
    "sevt = songs[songs.Decade == 1970]\n",
    "eightt = songs[songs.Decade == 1980]\n",
    "ninett = songs[songs.Decade == 1990]\n",
    "auts = songs[songs.Decade == 2000]\n",
    "teens = songs[songs.Decade == 2010]"
   ]
  },
  {
   "cell_type": "code",
   "execution_count": 34,
   "metadata": {},
   "outputs": [
    {
     "data": {
      "text/plain": [
       "[('wooly', 18),\n",
       " ('bully', 17),\n",
       " ('the', 8),\n",
       " ('matty', 3),\n",
       " ('told', 3),\n",
       " ('hatty', 3),\n",
       " ('a', 3),\n",
       " ('and', 3),\n",
       " ('lets', 3),\n",
       " ('to', 3)]"
      ]
     },
     "execution_count": 34,
     "metadata": {},
     "output_type": "execute_result"
    }
   ],
   "source": [
    "six_lyr = sixt['Lyrics']\n",
    "tes = six_lyr[0]\n",
    "bow = Counter(word_tokenize(tes))\n",
    "bow.most_common(10)"
   ]
  }
 ],
 "metadata": {
  "kernelspec": {
   "display_name": "Python 3",
   "language": "python",
   "name": "python3"
  },
  "language_info": {
   "codemirror_mode": {
    "name": "ipython",
    "version": 3
   },
   "file_extension": ".py",
   "mimetype": "text/x-python",
   "name": "python",
   "nbconvert_exporter": "python",
   "pygments_lexer": "ipython3",
   "version": "3.6.5"
  }
 },
 "nbformat": 4,
 "nbformat_minor": 2
}
